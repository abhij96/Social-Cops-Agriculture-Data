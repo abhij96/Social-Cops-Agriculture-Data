{
 "cells": [
  {
   "cell_type": "code",
   "execution_count": 1,
   "metadata": {},
   "outputs": [],
   "source": [
    "import pandas as pd\n",
    "import numpy as np\n",
    "import matplotlib as plt\n",
    "%matplotlib inline"
   ]
  },
  {
   "cell_type": "markdown",
   "metadata": {},
   "source": [
    "# Input Data"
   ]
  },
  {
   "cell_type": "code",
   "execution_count": 2,
   "metadata": {},
   "outputs": [],
   "source": [
    "df1= pd.read_csv('Monthly_data_cmo.csv')\n",
    "df2=pd.read_csv('CMO_MSP_Mandi.csv')"
   ]
  },
  {
   "cell_type": "markdown",
   "metadata": {},
   "source": [
    "# Cleaning Data"
   ]
  },
  {
   "cell_type": "code",
   "execution_count": 3,
   "metadata": {},
   "outputs": [],
   "source": [
    "df1['date'] =  pd.to_datetime(df1['date'])\n",
    "df1['Commodity']=df1['Commodity'].str.lower()\n",
    "df1['Commodity'] = df1['Commodity'].str.replace('bhagar/vari','bhagar-vari')\n",
    "df1['Commodity'] = df1['Commodity'].str.replace('thymol/lovage','thymol-lovage')\n",
    "df2['commodity']=df2['commodity'].str.lower()"
   ]
  },
  {
   "cell_type": "code",
   "execution_count": 4,
   "metadata": {},
   "outputs": [],
   "source": [
    "df1=df1[(df1['min_price']<=df1['max_price']) & (df1['modal_price'] <= df1['max_price'])]\n",
    "df1=df1[(df1['max_price']>0) & (df1['modal_price']>0) & (df1['max_price']<=1000000)]"
   ]
  },
  {
   "cell_type": "markdown",
   "metadata": {},
   "source": [
    "# Seprating Data based on commodity and APMC"
   ]
  },
  {
   "cell_type": "code",
   "execution_count": 5,
   "metadata": {},
   "outputs": [],
   "source": [
    "commodity=df1.Commodity.unique()\n",
    "apmc=df1.APMC.unique()"
   ]
  },
  {
   "cell_type": "code",
   "execution_count": 7,
   "metadata": {},
   "outputs": [],
   "source": [
    "n=commodity.size\n",
    "m=apmc.size\n",
    "test={}\n",
    "A=pd.DataFrame(columns=['Key','Commodity','APMC'])\n",
    "q=0\n",
    "for i in range(0,n):\n",
    "  for j in range(0,m):\n",
    "    if df1[(df1['APMC'] == apmc[j]) & (df1['Commodity'] == commodity[i])].empty:\n",
    "        continue\n",
    "    else:\n",
    "        test[q]=df1[(df1['APMC'] == apmc[j]) & (df1['Commodity'] == commodity[i])]\n",
    "        test[q]= pd.merge(test[q], df2, how='left',left_on=['Commodity','Year'], right_on=['commodity','year']).set_index('date')\n",
    "        A.loc[q]=([q, commodity[i], apmc[j]])\n",
    "        q+=1\n",
    "       "
   ]
  },
  {
   "cell_type": "markdown",
   "metadata": {},
   "source": [
    "# Processing to find seasonality in prices"
   ]
  },
  {
   "cell_type": "code",
   "execution_count": 8,
   "metadata": {},
   "outputs": [
    {
     "name": "stderr",
     "output_type": "stream",
     "text": [
      "C:\\ProgramData\\Anaconda3\\lib\\site-packages\\statsmodels\\compat\\pandas.py:56: FutureWarning: The pandas.core.datetools module is deprecated and will be removed in a future version. Please use the pandas.tseries module instead.\n",
      "  from pandas.core import datetools\n"
     ]
    }
   ],
   "source": [
    "from statsmodels.tsa.seasonal import seasonal_decompose\n",
    "for key in test.keys():\n",
    "    if test[key]['modal_price'].size >2:\n",
    "        result = seasonal_decompose(test[key]['modal_price'], model='multiplicative', freq=2)\n",
    "        if np.mean(result.seasonal) == 0:\n",
    "            test[key]['seasonality']='multiplicative'\n",
    "            test[key]['deseasonal']=result.trend\n",
    "            test[key]['Peak seasonal price fluctuation %']=max(((test[key]['modal_price'].max()-test[key]['modal_price'].mean())*100)/test[key]['modal_price'].mean(),((test[key]['modal_price'].mean()-test[key]['modal_price'].min())*100)/test[key]['modal_price'].mean())\n",
    "        else:\n",
    "            result = seasonal_decompose(test[key]['modal_price'], model='additive', freq=2)\n",
    "            if np.mean(result.seasonal) == 0:\n",
    "                test[key]['seasonality']='additive'\n",
    "                test[key]['deseasonal']=result.trend\n",
    "                test[key]['Peak seasonal price fluctuation %']=max(((test[key]['modal_price'].max()-test[key]['modal_price'].mean())*100)/test[key]['modal_price'].mean(),((test[key]['modal_price'].mean()-test[key]['modal_price'].min())*100)/test[key]['modal_price'].mean())\n",
    "            else:\n",
    "                test[key]['seasonality']='not found'\n",
    "                test[key]['deseasonal']=np.nan\n",
    "    else:\n",
    "        test[key]['seasonality']='not found'\n",
    "        test[key]['deseasonal']=np.nan\n",
    "    if (np.mean(test[key]['msp_filter']==1)):\n",
    "        test[key]['Raw vs MSP diff']=test[key]['modal_price']-test[key]['msprice']\n",
    "        test[key]['Desasonal vs MSP diff']=test[key]['deseasonal']-test[key]['msprice']\n"
   ]
  },
  {
   "cell_type": "markdown",
   "metadata": {},
   "source": [
    "# Saving processed records to files"
   ]
  },
  {
   "cell_type": "code",
   "execution_count": 12,
   "metadata": {
    "scrolled": true
   },
   "outputs": [
    {
     "ename": "KeyboardInterrupt",
     "evalue": "",
     "output_type": "error",
     "traceback": [
      "\u001b[1;31m---------------------------------------------------------------------------\u001b[0m",
      "\u001b[1;31mKeyboardInterrupt\u001b[0m                         Traceback (most recent call last)",
      "\u001b[1;32m<ipython-input-12-265d7c5e44c9>\u001b[0m in \u001b[0;36m<module>\u001b[1;34m()\u001b[0m\n\u001b[0;32m      1\u001b[0m \u001b[1;32mfor\u001b[0m \u001b[0mkey\u001b[0m \u001b[1;32min\u001b[0m \u001b[0mtest\u001b[0m\u001b[1;33m.\u001b[0m\u001b[0mkeys\u001b[0m\u001b[1;33m(\u001b[0m\u001b[1;33m)\u001b[0m\u001b[1;33m:\u001b[0m\u001b[1;33m\u001b[0m\u001b[0m\n\u001b[1;32m----> 2\u001b[1;33m             \u001b[0mtest\u001b[0m\u001b[1;33m[\u001b[0m\u001b[0mkey\u001b[0m\u001b[1;33m]\u001b[0m\u001b[1;33m.\u001b[0m\u001b[0mto_csv\u001b[0m\u001b[1;33m(\u001b[0m\u001b[1;34mr'F:/Python/Social Cops/Output/output_{}-{}.csv'\u001b[0m\u001b[1;33m.\u001b[0m\u001b[0mformat\u001b[0m\u001b[1;33m(\u001b[0m\u001b[0mA\u001b[0m\u001b[1;33m.\u001b[0m\u001b[0mloc\u001b[0m\u001b[1;33m[\u001b[0m\u001b[0mkey\u001b[0m\u001b[1;33m]\u001b[0m\u001b[1;33m[\u001b[0m\u001b[1;34m'Commodity'\u001b[0m\u001b[1;33m]\u001b[0m\u001b[1;33m,\u001b[0m\u001b[0mA\u001b[0m\u001b[1;33m.\u001b[0m\u001b[0mloc\u001b[0m\u001b[1;33m[\u001b[0m\u001b[0mkey\u001b[0m\u001b[1;33m]\u001b[0m\u001b[1;33m[\u001b[0m\u001b[1;34m'APMC'\u001b[0m\u001b[1;33m]\u001b[0m\u001b[1;33m)\u001b[0m\u001b[1;33m,\u001b[0m\u001b[0mindex\u001b[0m\u001b[1;33m=\u001b[0m\u001b[1;32mTrue\u001b[0m\u001b[1;33m,\u001b[0m\u001b[0mheader\u001b[0m\u001b[1;33m=\u001b[0m\u001b[1;32mTrue\u001b[0m\u001b[1;33m)\u001b[0m\u001b[1;33m\u001b[0m\u001b[0m\n\u001b[0m\u001b[0;32m      3\u001b[0m \u001b[0mA\u001b[0m\u001b[1;33m.\u001b[0m\u001b[0mto_csv\u001b[0m\u001b[1;33m(\u001b[0m\u001b[1;34mr'F:/Python/Social Cops/Output/Output_key.csv'\u001b[0m\u001b[1;33m,\u001b[0m\u001b[0mindex\u001b[0m\u001b[1;33m=\u001b[0m\u001b[1;32mTrue\u001b[0m\u001b[1;33m,\u001b[0m\u001b[0mheader\u001b[0m\u001b[1;33m=\u001b[0m\u001b[1;32mTrue\u001b[0m\u001b[1;33m)\u001b[0m\u001b[1;33m\u001b[0m\u001b[0m\n",
      "\u001b[1;32mC:\\ProgramData\\Anaconda3\\lib\\site-packages\\pandas\\core\\frame.py\u001b[0m in \u001b[0;36mto_csv\u001b[1;34m(self, path_or_buf, sep, na_rep, float_format, columns, header, index, index_label, mode, encoding, compression, quoting, quotechar, line_terminator, chunksize, tupleize_cols, date_format, doublequote, escapechar, decimal)\u001b[0m\n\u001b[0;32m   1522\u001b[0m                                      \u001b[0mdoublequote\u001b[0m\u001b[1;33m=\u001b[0m\u001b[0mdoublequote\u001b[0m\u001b[1;33m,\u001b[0m\u001b[1;33m\u001b[0m\u001b[0m\n\u001b[0;32m   1523\u001b[0m                                      escapechar=escapechar, decimal=decimal)\n\u001b[1;32m-> 1524\u001b[1;33m         \u001b[0mformatter\u001b[0m\u001b[1;33m.\u001b[0m\u001b[0msave\u001b[0m\u001b[1;33m(\u001b[0m\u001b[1;33m)\u001b[0m\u001b[1;33m\u001b[0m\u001b[0m\n\u001b[0m\u001b[0;32m   1525\u001b[0m \u001b[1;33m\u001b[0m\u001b[0m\n\u001b[0;32m   1526\u001b[0m         \u001b[1;32mif\u001b[0m \u001b[0mpath_or_buf\u001b[0m \u001b[1;32mis\u001b[0m \u001b[1;32mNone\u001b[0m\u001b[1;33m:\u001b[0m\u001b[1;33m\u001b[0m\u001b[0m\n",
      "\u001b[1;32mC:\\ProgramData\\Anaconda3\\lib\\site-packages\\pandas\\io\\formats\\format.py\u001b[0m in \u001b[0;36msave\u001b[1;34m(self)\u001b[0m\n\u001b[0;32m   1654\u001b[0m         \u001b[1;32mfinally\u001b[0m\u001b[1;33m:\u001b[0m\u001b[1;33m\u001b[0m\u001b[0m\n\u001b[0;32m   1655\u001b[0m             \u001b[1;32mif\u001b[0m \u001b[0mclose\u001b[0m\u001b[1;33m:\u001b[0m\u001b[1;33m\u001b[0m\u001b[0m\n\u001b[1;32m-> 1656\u001b[1;33m                 \u001b[0mf\u001b[0m\u001b[1;33m.\u001b[0m\u001b[0mclose\u001b[0m\u001b[1;33m(\u001b[0m\u001b[1;33m)\u001b[0m\u001b[1;33m\u001b[0m\u001b[0m\n\u001b[0m\u001b[0;32m   1657\u001b[0m \u001b[1;33m\u001b[0m\u001b[0m\n\u001b[0;32m   1658\u001b[0m     \u001b[1;32mdef\u001b[0m \u001b[0m_save_header\u001b[0m\u001b[1;33m(\u001b[0m\u001b[0mself\u001b[0m\u001b[1;33m)\u001b[0m\u001b[1;33m:\u001b[0m\u001b[1;33m\u001b[0m\u001b[0m\n",
      "\u001b[1;31mKeyboardInterrupt\u001b[0m: "
     ]
    }
   ],
   "source": [
    "for key in test.keys():\n",
    "            test[key].to_csv(r'Output/output_{}-{}.csv'.format(A.loc[key]['Commodity'],A.loc[key]['APMC']),index=True,header=True)\n",
    "A.to_csv(r'Output/Output_key.csv',index=True,header=True)"
   ]
  },
  {
   "cell_type": "markdown",
   "metadata": {},
   "source": [
    "# Configurng user interface"
   ]
  },
  {
   "cell_type": "code",
   "execution_count": 29,
   "metadata": {},
   "outputs": [
    {
     "name": "stdout",
     "output_type": "stream",
     "text": [
      "\n",
      "\n",
      "\n",
      "Check out the data\n",
      "\n",
      "\n",
      "                APMC Commodity  Year      Month  arrivals_in_qtl  min_price  \\\n",
      "date                                                                          \n",
      "2015-04-01  Baramati   jaggery  2015      April              666       1994   \n",
      "2016-04-01  Baramati   jaggery  2016      April             2623       2912   \n",
      "2015-08-01  Baramati   jaggery  2015     August              587       2068   \n",
      "2016-08-01  Baramati   jaggery  2016     August             3009       3792   \n",
      "2014-12-01  Baramati   jaggery  2014   December              396       2200   \n",
      "2015-12-01  Baramati   jaggery  2015   December             1545       2300   \n",
      "2015-02-01  Baramati   jaggery  2015   February               58       1800   \n",
      "2016-02-01  Baramati   jaggery  2016   February             4306       2451   \n",
      "2015-01-01  Baramati   jaggery  2015    January              558       2178   \n",
      "2016-01-01  Baramati   jaggery  2016    January             3284       2453   \n",
      "2015-07-01  Baramati   jaggery  2015       July              175       2426   \n",
      "2016-07-01  Baramati   jaggery  2016       July             1234       3640   \n",
      "2015-06-01  Baramati   jaggery  2015       June             3819       2280   \n",
      "2016-06-01  Baramati   jaggery  2016       June             4365       3403   \n",
      "2016-03-01  Baramati   jaggery  2016      March             4006       2643   \n",
      "2015-05-01  Baramati   jaggery  2015        May             4298       2251   \n",
      "2016-05-01  Baramati   jaggery  2016        May             4375       2923   \n",
      "2014-11-01  Baramati   jaggery  2014   November             1328       2437   \n",
      "2015-11-01  Baramati   jaggery  2015   November              558       2401   \n",
      "2015-10-01  Baramati   jaggery  2015    October              985       2342   \n",
      "2016-10-01  Baramati   jaggery  2016    October             3069       3432   \n",
      "2014-09-01  Baramati   jaggery  2014  September             2399       2860   \n",
      "2015-09-01  Baramati   jaggery  2015  September              212       2238   \n",
      "2016-09-01  Baramati   jaggery  2016  September             2985       3510   \n",
      "2016-11-01  Baramati   jaggery  2016   November             1460       2970   \n",
      "\n",
      "            max_price  modal_price district_name   state_name commodity  year  \\\n",
      "date                                                                            \n",
      "2015-04-01       2528         2213          Pune  Maharashtra       NaN   NaN   \n",
      "2016-04-01       3469         3306          Pune  Maharashtra       NaN   NaN   \n",
      "2015-08-01       2468         2367          Pune  Maharashtra       NaN   NaN   \n",
      "2016-08-01       4181         4014          Pune  Maharashtra       NaN   NaN   \n",
      "2014-12-01       3051         2400          Pune  Maharashtra       NaN   NaN   \n",
      "2015-12-01       2601         2483          Pune  Maharashtra       NaN   NaN   \n",
      "2015-02-01       2275         2100          Pune  Maharashtra       NaN   NaN   \n",
      "2016-02-01       2664         2581          Pune  Maharashtra       NaN   NaN   \n",
      "2015-01-01       2529         2381          Pune  Maharashtra       NaN   NaN   \n",
      "2016-01-01       2651         2574          Pune  Maharashtra       NaN   NaN   \n",
      "2015-07-01       2625         2553          Pune  Maharashtra       NaN   NaN   \n",
      "2016-07-01       3932         3844          Pune  Maharashtra       NaN   NaN   \n",
      "2015-06-01       2655         2432          Pune  Maharashtra       NaN   NaN   \n",
      "2016-06-01       3815         3715          Pune  Maharashtra       NaN   NaN   \n",
      "2016-03-01       2975         2888          Pune  Maharashtra       NaN   NaN   \n",
      "2015-05-01       2674         2402          Pune  Maharashtra       NaN   NaN   \n",
      "2016-05-01       3443         3166          Pune  Maharashtra       NaN   NaN   \n",
      "2014-11-01       2791         2605          Pune  Maharashtra       NaN   NaN   \n",
      "2015-11-01       2720         2575          Pune  Maharashtra       NaN   NaN   \n",
      "2015-10-01       2754         2646          Pune  Maharashtra       NaN   NaN   \n",
      "2016-10-01       3868         3705          Pune  Maharashtra       NaN   NaN   \n",
      "2014-09-01       3335         3225          Pune  Maharashtra       NaN   NaN   \n",
      "2015-09-01       2528         2491          Pune  Maharashtra       NaN   NaN   \n",
      "2016-09-01       3945         3795          Pune  Maharashtra       NaN   NaN   \n",
      "2016-11-01       3200         3109          Pune  Maharashtra       NaN   NaN   \n",
      "\n",
      "           Type  msprice  msp_filter seasonality  deseasonal  \n",
      "date                                                          \n",
      "2015-04-01  NaN      NaN         NaN   not found         NaN  \n",
      "2016-04-01  NaN      NaN         NaN   not found         NaN  \n",
      "2015-08-01  NaN      NaN         NaN   not found         NaN  \n",
      "2016-08-01  NaN      NaN         NaN   not found         NaN  \n",
      "2014-12-01  NaN      NaN         NaN   not found         NaN  \n",
      "2015-12-01  NaN      NaN         NaN   not found         NaN  \n",
      "2015-02-01  NaN      NaN         NaN   not found         NaN  \n",
      "2016-02-01  NaN      NaN         NaN   not found         NaN  \n",
      "2015-01-01  NaN      NaN         NaN   not found         NaN  \n",
      "2016-01-01  NaN      NaN         NaN   not found         NaN  \n",
      "2015-07-01  NaN      NaN         NaN   not found         NaN  \n",
      "2016-07-01  NaN      NaN         NaN   not found         NaN  \n",
      "2015-06-01  NaN      NaN         NaN   not found         NaN  \n",
      "2016-06-01  NaN      NaN         NaN   not found         NaN  \n",
      "2016-03-01  NaN      NaN         NaN   not found         NaN  \n",
      "2015-05-01  NaN      NaN         NaN   not found         NaN  \n",
      "2016-05-01  NaN      NaN         NaN   not found         NaN  \n",
      "2014-11-01  NaN      NaN         NaN   not found         NaN  \n",
      "2015-11-01  NaN      NaN         NaN   not found         NaN  \n",
      "2015-10-01  NaN      NaN         NaN   not found         NaN  \n",
      "2016-10-01  NaN      NaN         NaN   not found         NaN  \n",
      "2014-09-01  NaN      NaN         NaN   not found         NaN  \n",
      "2015-09-01  NaN      NaN         NaN   not found         NaN  \n",
      "2016-09-01  NaN      NaN         NaN   not found         NaN  \n",
      "2016-11-01  NaN      NaN         NaN   not found         NaN  \n"
     ]
    },
    {
     "name": "stderr",
     "output_type": "stream",
     "text": [
      "C:\\ProgramData\\Anaconda3\\lib\\site-packages\\pandas\\plotting\\_core.py:1716: UserWarning: Pandas doesn't allow columns to be created via a new attribute name - see https://pandas.pydata.org/pandas-docs/stable/indexing.html#attribute-access\n",
      "  series.name = label\n"
     ]
    },
    {
     "data": {
      "image/png": "[encoded data removed]",
      "text/plain": [
       "<matplotlib.figure.Figure at 0x14b6a392c50>"
      ]
     },
     "metadata": {},
     "output_type": "display_data"
    }
   ],
   "source": [
    "print('-'*50)\n",
    "print('Welcome to Maharashtra dashboard')\n",
    "print('='*50)\n",
    "print(\"\\n\")\n",
    "print(\"Please select the trends you want to see and enter its key\")\n",
    "print(\"\\n\")\n",
    "print(A)\n",
    "print(\"\\n\")\n",
    "sel=int(input(\"  Enter the key \\n\"))\n",
    "print(\"\\n\\n\")\n",
    "from IPython.display import clear_output\n",
    "clear_output()\n",
    "test[sel].plot(y=['min_price', 'max_price','modal_price','msprice'],title='Price trends of {} at {}'.format(A.loc[sel]['Commodity'],A.loc[sel]['APMC']))\n",
    "print(\"\\n\\n\")\n",
    "print(\"Check out the data\")\n",
    "print(\"\\n\")\n",
    "print(test[sel])"
   ]
  },
  {
   "cell_type": "code",
   "execution_count": null,
   "metadata": {},
   "outputs": [],
   "source": []
  },
  {
   "cell_type": "code",
   "execution_count": null,
   "metadata": {},
   "outputs": [],
   "source": []
  },
  {
   "cell_type": "code",
   "execution_count": null,
   "metadata": {},
   "outputs": [],
   "source": []
  }
 ],
 "metadata": {
  "kernelspec": {
   "display_name": "Python 3",
   "language": "python",
   "name": "python3"
  },
  "language_info": {
   "codemirror_mode": {
    "name": "ipython",
    "version": 3
   },
   "file_extension": ".py",
   "mimetype": "text/x-python",
   "name": "python",
   "nbconvert_exporter": "python",
   "pygments_lexer": "ipython3",
   "version": "3.6.4"
  }
 },
 "nbformat": 4,
 "nbformat_minor": 2
}
